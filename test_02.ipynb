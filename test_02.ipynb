{
 "cells": [
  {
   "cell_type": "code",
   "execution_count": 73,
   "metadata": {},
   "outputs": [],
   "source": [
    "import pandas as pd\n",
    "import matplotlib.pyplot as plt\n",
    "import seaborn as sns\n",
    "from sklearn.model_selection import train_test_split\n",
    "from sklearn.tree import DecisionTreeClassifier\n",
    "from sklearn.ensemble import RandomForestClassifier\n",
    "from sklearn.linear_model import LogisticRegression\n",
    "from xgboost import XGBClassifier\n",
    "from sklearn.preprocessing import StandardScaler\n",
    "from sklearn.metrics import accuracy_score, classification_report"
   ]
  },
  {
   "cell_type": "code",
   "execution_count": 74,
   "metadata": {},
   "outputs": [],
   "source": [
    "csv_file_path = './weather_data.csv'\n",
    "df=pd.read_csv(csv_file_path)"
   ]
  },
  {
   "cell_type": "markdown",
   "metadata": {},
   "source": [
    "## Data Preprocessing"
   ]
  },
  {
   "cell_type": "code",
   "execution_count": 75,
   "metadata": {},
   "outputs": [
    {
     "name": "stderr",
     "output_type": "stream",
     "text": [
      "/tmp/ipykernel_2172/3404451146.py:1: FutureWarning: Downcasting behavior in `replace` is deprecated and will be removed in a future version. To retain the old behavior, explicitly call `result.infer_objects(copy=False)`. To opt-in to the future behavior, set `pd.set_option('future.no_silent_downcasting', True)`\n",
      "  df['rain_or_not']=df['rain_or_not'].replace({\"Rain\":1,\"No Rain\":0})\n"
     ]
    }
   ],
   "source": [
    "\n",
    "df['rain_or_not']=df['rain_or_not'].replace({\"Rain\":1,\"No Rain\":0})"
   ]
  },
  {
   "cell_type": "code",
   "execution_count": 76,
   "metadata": {},
   "outputs": [
    {
     "data": {
      "text/plain": [
       "date                0\n",
       "avg_temperature    15\n",
       "humidity           15\n",
       "avg_wind_speed     15\n",
       "rain_or_not         0\n",
       "cloud_cover        15\n",
       "pressure            0\n",
       "dtype: int64"
      ]
     },
     "execution_count": 76,
     "metadata": {},
     "output_type": "execute_result"
    }
   ],
   "source": [
    "empty_values_per_column=df.isna().sum()\n",
    "empty_values_per_column"
   ]
  },
  {
   "cell_type": "code",
   "execution_count": 77,
   "metadata": {},
   "outputs": [
    {
     "data": {
      "text/html": [
       "<div>\n",
       "<style scoped>\n",
       "    .dataframe tbody tr th:only-of-type {\n",
       "        vertical-align: middle;\n",
       "    }\n",
       "\n",
       "    .dataframe tbody tr th {\n",
       "        vertical-align: top;\n",
       "    }\n",
       "\n",
       "    .dataframe thead th {\n",
       "        text-align: right;\n",
       "    }\n",
       "</style>\n",
       "<table border=\"1\" class=\"dataframe\">\n",
       "  <thead>\n",
       "    <tr style=\"text-align: right;\">\n",
       "      <th></th>\n",
       "      <th>avg_temperature</th>\n",
       "      <th>humidity</th>\n",
       "      <th>avg_wind_speed</th>\n",
       "      <th>rain_or_not</th>\n",
       "      <th>cloud_cover</th>\n",
       "      <th>pressure</th>\n",
       "    </tr>\n",
       "  </thead>\n",
       "  <tbody>\n",
       "    <tr>\n",
       "      <th>count</th>\n",
       "      <td>296.000000</td>\n",
       "      <td>296.000000</td>\n",
       "      <td>296.000000</td>\n",
       "      <td>311.000000</td>\n",
       "      <td>296.000000</td>\n",
       "      <td>311.000000</td>\n",
       "    </tr>\n",
       "    <tr>\n",
       "      <th>mean</th>\n",
       "      <td>25.983840</td>\n",
       "      <td>55.041385</td>\n",
       "      <td>7.556636</td>\n",
       "      <td>0.636656</td>\n",
       "      <td>49.834827</td>\n",
       "      <td>1001.059119</td>\n",
       "    </tr>\n",
       "    <tr>\n",
       "      <th>std</th>\n",
       "      <td>6.802475</td>\n",
       "      <td>19.220133</td>\n",
       "      <td>5.344683</td>\n",
       "      <td>0.481738</td>\n",
       "      <td>29.009459</td>\n",
       "      <td>28.835595</td>\n",
       "    </tr>\n",
       "    <tr>\n",
       "      <th>min</th>\n",
       "      <td>15.000000</td>\n",
       "      <td>30.000000</td>\n",
       "      <td>0.069480</td>\n",
       "      <td>0.000000</td>\n",
       "      <td>0.321826</td>\n",
       "      <td>951.240404</td>\n",
       "    </tr>\n",
       "    <tr>\n",
       "      <th>25%</th>\n",
       "      <td>20.265692</td>\n",
       "      <td>34.280826</td>\n",
       "      <td>3.550354</td>\n",
       "      <td>0.000000</td>\n",
       "      <td>24.530951</td>\n",
       "      <td>975.757545</td>\n",
       "    </tr>\n",
       "    <tr>\n",
       "      <th>50%</th>\n",
       "      <td>27.177958</td>\n",
       "      <td>56.759806</td>\n",
       "      <td>7.326421</td>\n",
       "      <td>1.000000</td>\n",
       "      <td>50.725120</td>\n",
       "      <td>1001.938586</td>\n",
       "    </tr>\n",
       "    <tr>\n",
       "      <th>75%</th>\n",
       "      <td>32.204599</td>\n",
       "      <td>72.189837</td>\n",
       "      <td>11.050627</td>\n",
       "      <td>1.000000</td>\n",
       "      <td>76.046506</td>\n",
       "      <td>1026.578884</td>\n",
       "    </tr>\n",
       "    <tr>\n",
       "      <th>max</th>\n",
       "      <td>35.000000</td>\n",
       "      <td>90.000000</td>\n",
       "      <td>56.636041</td>\n",
       "      <td>1.000000</td>\n",
       "      <td>99.834751</td>\n",
       "      <td>1049.543752</td>\n",
       "    </tr>\n",
       "  </tbody>\n",
       "</table>\n",
       "</div>"
      ],
      "text/plain": [
       "       avg_temperature    humidity  avg_wind_speed  rain_or_not  cloud_cover  \\\n",
       "count       296.000000  296.000000      296.000000   311.000000   296.000000   \n",
       "mean         25.983840   55.041385        7.556636     0.636656    49.834827   \n",
       "std           6.802475   19.220133        5.344683     0.481738    29.009459   \n",
       "min          15.000000   30.000000        0.069480     0.000000     0.321826   \n",
       "25%          20.265692   34.280826        3.550354     0.000000    24.530951   \n",
       "50%          27.177958   56.759806        7.326421     1.000000    50.725120   \n",
       "75%          32.204599   72.189837       11.050627     1.000000    76.046506   \n",
       "max          35.000000   90.000000       56.636041     1.000000    99.834751   \n",
       "\n",
       "          pressure  \n",
       "count   311.000000  \n",
       "mean   1001.059119  \n",
       "std      28.835595  \n",
       "min     951.240404  \n",
       "25%     975.757545  \n",
       "50%    1001.938586  \n",
       "75%    1026.578884  \n",
       "max    1049.543752  "
      ]
     },
     "execution_count": 77,
     "metadata": {},
     "output_type": "execute_result"
    }
   ],
   "source": [
    "df.describe()"
   ]
  },
  {
   "cell_type": "code",
   "execution_count": 78,
   "metadata": {},
   "outputs": [],
   "source": [
    "# df=df.dropna()\n",
    "# df.count()\n",
    "\n",
    "# Calculate median for each column, excluding non-numeric columns like 'Date'\n",
    "median_values = df.drop(columns='date').mean()\n",
    "\n",
    "# Fill missing values in each column with its respective median\n",
    "df.fillna(median_values, inplace=True)"
   ]
  },
  {
   "cell_type": "code",
   "execution_count": 79,
   "metadata": {},
   "outputs": [
    {
     "data": {
      "text/html": [
       "<div>\n",
       "<style scoped>\n",
       "    .dataframe tbody tr th:only-of-type {\n",
       "        vertical-align: middle;\n",
       "    }\n",
       "\n",
       "    .dataframe tbody tr th {\n",
       "        vertical-align: top;\n",
       "    }\n",
       "\n",
       "    .dataframe thead th {\n",
       "        text-align: right;\n",
       "    }\n",
       "</style>\n",
       "<table border=\"1\" class=\"dataframe\">\n",
       "  <thead>\n",
       "    <tr style=\"text-align: right;\">\n",
       "      <th></th>\n",
       "      <th>avg_temperature</th>\n",
       "      <th>humidity</th>\n",
       "      <th>avg_wind_speed</th>\n",
       "      <th>rain_or_not</th>\n",
       "      <th>cloud_cover</th>\n",
       "      <th>pressure</th>\n",
       "    </tr>\n",
       "  </thead>\n",
       "  <tbody>\n",
       "    <tr>\n",
       "      <th>count</th>\n",
       "      <td>311.000000</td>\n",
       "      <td>311.000000</td>\n",
       "      <td>311.000000</td>\n",
       "      <td>311.000000</td>\n",
       "      <td>311.000000</td>\n",
       "      <td>311.000000</td>\n",
       "    </tr>\n",
       "    <tr>\n",
       "      <th>mean</th>\n",
       "      <td>25.983840</td>\n",
       "      <td>55.041385</td>\n",
       "      <td>7.556636</td>\n",
       "      <td>0.636656</td>\n",
       "      <td>49.834827</td>\n",
       "      <td>1001.059119</td>\n",
       "    </tr>\n",
       "    <tr>\n",
       "      <th>std</th>\n",
       "      <td>6.635859</td>\n",
       "      <td>18.749365</td>\n",
       "      <td>5.213773</td>\n",
       "      <td>0.481738</td>\n",
       "      <td>28.298916</td>\n",
       "      <td>28.835595</td>\n",
       "    </tr>\n",
       "    <tr>\n",
       "      <th>min</th>\n",
       "      <td>15.000000</td>\n",
       "      <td>30.000000</td>\n",
       "      <td>0.069480</td>\n",
       "      <td>0.000000</td>\n",
       "      <td>0.321826</td>\n",
       "      <td>951.240404</td>\n",
       "    </tr>\n",
       "    <tr>\n",
       "      <th>25%</th>\n",
       "      <td>20.493383</td>\n",
       "      <td>35.686194</td>\n",
       "      <td>3.711684</td>\n",
       "      <td>0.000000</td>\n",
       "      <td>25.955498</td>\n",
       "      <td>975.757545</td>\n",
       "    </tr>\n",
       "    <tr>\n",
       "      <th>50%</th>\n",
       "      <td>25.983840</td>\n",
       "      <td>55.041385</td>\n",
       "      <td>7.556636</td>\n",
       "      <td>1.000000</td>\n",
       "      <td>49.834827</td>\n",
       "      <td>1001.938586</td>\n",
       "    </tr>\n",
       "    <tr>\n",
       "      <th>75%</th>\n",
       "      <td>31.858688</td>\n",
       "      <td>71.978037</td>\n",
       "      <td>10.897166</td>\n",
       "      <td>1.000000</td>\n",
       "      <td>74.162107</td>\n",
       "      <td>1026.578884</td>\n",
       "    </tr>\n",
       "    <tr>\n",
       "      <th>max</th>\n",
       "      <td>35.000000</td>\n",
       "      <td>90.000000</td>\n",
       "      <td>56.636041</td>\n",
       "      <td>1.000000</td>\n",
       "      <td>99.834751</td>\n",
       "      <td>1049.543752</td>\n",
       "    </tr>\n",
       "  </tbody>\n",
       "</table>\n",
       "</div>"
      ],
      "text/plain": [
       "       avg_temperature    humidity  avg_wind_speed  rain_or_not  cloud_cover  \\\n",
       "count       311.000000  311.000000      311.000000   311.000000   311.000000   \n",
       "mean         25.983840   55.041385        7.556636     0.636656    49.834827   \n",
       "std           6.635859   18.749365        5.213773     0.481738    28.298916   \n",
       "min          15.000000   30.000000        0.069480     0.000000     0.321826   \n",
       "25%          20.493383   35.686194        3.711684     0.000000    25.955498   \n",
       "50%          25.983840   55.041385        7.556636     1.000000    49.834827   \n",
       "75%          31.858688   71.978037       10.897166     1.000000    74.162107   \n",
       "max          35.000000   90.000000       56.636041     1.000000    99.834751   \n",
       "\n",
       "          pressure  \n",
       "count   311.000000  \n",
       "mean   1001.059119  \n",
       "std      28.835595  \n",
       "min     951.240404  \n",
       "25%     975.757545  \n",
       "50%    1001.938586  \n",
       "75%    1026.578884  \n",
       "max    1049.543752  "
      ]
     },
     "execution_count": 79,
     "metadata": {},
     "output_type": "execute_result"
    }
   ],
   "source": [
    "df.describe()"
   ]
  },
  {
   "cell_type": "code",
   "execution_count": 80,
   "metadata": {},
   "outputs": [
    {
     "name": "stdout",
     "output_type": "stream",
     "text": [
      "           date  avg_temperature   humidity  avg_wind_speed  rain_or_not  \\\n",
      "0    2023-01-01        23.745401  46.140905        7.845981            1   \n",
      "1    2023-01-02        30.030503  59.876587        5.382457            1   \n",
      "2    2023-01-03        28.365224  51.464618       13.158008            1   \n",
      "3    2023-01-04        27.550929  53.103799        5.886677            1   \n",
      "4    2023-01-05        23.639303  57.826186       12.248992            1   \n",
      "..          ...              ...        ...             ...          ...   \n",
      "306  2023-11-03        22.072834  37.756910        4.729355            0   \n",
      "307  2023-11-04        19.645885  42.190604        8.092369            0   \n",
      "308  2023-11-05        23.884496  36.205508       11.860847            1   \n",
      "309  2023-11-06        18.168418  34.785000        4.781288            0   \n",
      "310  2023-11-07        19.389714  37.717416        9.388371            0   \n",
      "\n",
      "     cloud_cover     pressure  \n",
      "0      20.851051   992.965681  \n",
      "1      93.059521  1037.273025  \n",
      "2      11.636640  1034.193357  \n",
      "3      81.744971   968.610142  \n",
      "4      38.062329  1030.264331  \n",
      "..           ...          ...  \n",
      "306    27.307081   954.564875  \n",
      "307    51.807877   964.002410  \n",
      "308    29.872557   977.681431  \n",
      "309    94.067925  1047.153269  \n",
      "310    25.929676   983.134701  \n",
      "\n",
      "[311 rows x 7 columns]\n"
     ]
    }
   ],
   "source": [
    "data = df['avg_wind_speed']\n",
    "df1 = pd.DataFrame(data)\n",
    "\n",
    "max_index = df1['avg_wind_speed'].idxmax()\n",
    "\n",
    "mean_wind_speed = df1.loc[df.index != max_index, 'avg_wind_speed'].mean()\n",
    "\n",
    "df.loc[max_index, 'avg_wind_speed'] = mean_wind_speed\n",
    "\n",
    "print(df)"
   ]
  },
  {
   "cell_type": "code",
   "execution_count": 81,
   "metadata": {},
   "outputs": [],
   "source": [
    "# df[\"date\"] = pd.to_datetime(df[\"date\"]) \n",
    "# df[\"month\"] = df[\"date\"].dt.month \n",
    "# df[\"day\"] = df[\"date\"].dt.day"
   ]
  },
  {
   "cell_type": "code",
   "execution_count": 82,
   "metadata": {},
   "outputs": [],
   "source": [
    "df=df.drop(columns=[\"date\"])"
   ]
  },
  {
   "cell_type": "code",
   "execution_count": 83,
   "metadata": {},
   "outputs": [
    {
     "data": {
      "text/html": [
       "<div>\n",
       "<style scoped>\n",
       "    .dataframe tbody tr th:only-of-type {\n",
       "        vertical-align: middle;\n",
       "    }\n",
       "\n",
       "    .dataframe tbody tr th {\n",
       "        vertical-align: top;\n",
       "    }\n",
       "\n",
       "    .dataframe thead th {\n",
       "        text-align: right;\n",
       "    }\n",
       "</style>\n",
       "<table border=\"1\" class=\"dataframe\">\n",
       "  <thead>\n",
       "    <tr style=\"text-align: right;\">\n",
       "      <th></th>\n",
       "      <th>avg_temperature</th>\n",
       "      <th>humidity</th>\n",
       "      <th>avg_wind_speed</th>\n",
       "      <th>rain_or_not</th>\n",
       "      <th>cloud_cover</th>\n",
       "      <th>pressure</th>\n",
       "    </tr>\n",
       "  </thead>\n",
       "  <tbody>\n",
       "    <tr>\n",
       "      <th>0</th>\n",
       "      <td>23.745401</td>\n",
       "      <td>46.140905</td>\n",
       "      <td>7.845981</td>\n",
       "      <td>1</td>\n",
       "      <td>20.851051</td>\n",
       "      <td>992.965681</td>\n",
       "    </tr>\n",
       "    <tr>\n",
       "      <th>1</th>\n",
       "      <td>30.030503</td>\n",
       "      <td>59.876587</td>\n",
       "      <td>5.382457</td>\n",
       "      <td>1</td>\n",
       "      <td>93.059521</td>\n",
       "      <td>1037.273025</td>\n",
       "    </tr>\n",
       "    <tr>\n",
       "      <th>2</th>\n",
       "      <td>28.365224</td>\n",
       "      <td>51.464618</td>\n",
       "      <td>13.158008</td>\n",
       "      <td>1</td>\n",
       "      <td>11.636640</td>\n",
       "      <td>1034.193357</td>\n",
       "    </tr>\n",
       "    <tr>\n",
       "      <th>3</th>\n",
       "      <td>27.550929</td>\n",
       "      <td>53.103799</td>\n",
       "      <td>5.886677</td>\n",
       "      <td>1</td>\n",
       "      <td>81.744971</td>\n",
       "      <td>968.610142</td>\n",
       "    </tr>\n",
       "    <tr>\n",
       "      <th>4</th>\n",
       "      <td>23.639303</td>\n",
       "      <td>57.826186</td>\n",
       "      <td>12.248992</td>\n",
       "      <td>1</td>\n",
       "      <td>38.062329</td>\n",
       "      <td>1030.264331</td>\n",
       "    </tr>\n",
       "    <tr>\n",
       "      <th>...</th>\n",
       "      <td>...</td>\n",
       "      <td>...</td>\n",
       "      <td>...</td>\n",
       "      <td>...</td>\n",
       "      <td>...</td>\n",
       "      <td>...</td>\n",
       "    </tr>\n",
       "    <tr>\n",
       "      <th>306</th>\n",
       "      <td>22.072834</td>\n",
       "      <td>37.756910</td>\n",
       "      <td>4.729355</td>\n",
       "      <td>0</td>\n",
       "      <td>27.307081</td>\n",
       "      <td>954.564875</td>\n",
       "    </tr>\n",
       "    <tr>\n",
       "      <th>307</th>\n",
       "      <td>19.645885</td>\n",
       "      <td>42.190604</td>\n",
       "      <td>8.092369</td>\n",
       "      <td>0</td>\n",
       "      <td>51.807877</td>\n",
       "      <td>964.002410</td>\n",
       "    </tr>\n",
       "    <tr>\n",
       "      <th>308</th>\n",
       "      <td>23.884496</td>\n",
       "      <td>36.205508</td>\n",
       "      <td>11.860847</td>\n",
       "      <td>1</td>\n",
       "      <td>29.872557</td>\n",
       "      <td>977.681431</td>\n",
       "    </tr>\n",
       "    <tr>\n",
       "      <th>309</th>\n",
       "      <td>18.168418</td>\n",
       "      <td>34.785000</td>\n",
       "      <td>4.781288</td>\n",
       "      <td>0</td>\n",
       "      <td>94.067925</td>\n",
       "      <td>1047.153269</td>\n",
       "    </tr>\n",
       "    <tr>\n",
       "      <th>310</th>\n",
       "      <td>19.389714</td>\n",
       "      <td>37.717416</td>\n",
       "      <td>9.388371</td>\n",
       "      <td>0</td>\n",
       "      <td>25.929676</td>\n",
       "      <td>983.134701</td>\n",
       "    </tr>\n",
       "  </tbody>\n",
       "</table>\n",
       "<p>311 rows × 6 columns</p>\n",
       "</div>"
      ],
      "text/plain": [
       "     avg_temperature   humidity  avg_wind_speed  rain_or_not  cloud_cover  \\\n",
       "0          23.745401  46.140905        7.845981            1    20.851051   \n",
       "1          30.030503  59.876587        5.382457            1    93.059521   \n",
       "2          28.365224  51.464618       13.158008            1    11.636640   \n",
       "3          27.550929  53.103799        5.886677            1    81.744971   \n",
       "4          23.639303  57.826186       12.248992            1    38.062329   \n",
       "..               ...        ...             ...          ...          ...   \n",
       "306        22.072834  37.756910        4.729355            0    27.307081   \n",
       "307        19.645885  42.190604        8.092369            0    51.807877   \n",
       "308        23.884496  36.205508       11.860847            1    29.872557   \n",
       "309        18.168418  34.785000        4.781288            0    94.067925   \n",
       "310        19.389714  37.717416        9.388371            0    25.929676   \n",
       "\n",
       "        pressure  \n",
       "0     992.965681  \n",
       "1    1037.273025  \n",
       "2    1034.193357  \n",
       "3     968.610142  \n",
       "4    1030.264331  \n",
       "..           ...  \n",
       "306   954.564875  \n",
       "307   964.002410  \n",
       "308   977.681431  \n",
       "309  1047.153269  \n",
       "310   983.134701  \n",
       "\n",
       "[311 rows x 6 columns]"
      ]
     },
     "execution_count": 83,
     "metadata": {},
     "output_type": "execute_result"
    }
   ],
   "source": [
    "df"
   ]
  },
  {
   "cell_type": "markdown",
   "metadata": {},
   "source": [
    "## Model Creation "
   ]
  },
  {
   "cell_type": "code",
   "execution_count": 84,
   "metadata": {},
   "outputs": [],
   "source": [
    "X = df.drop(columns=[\"rain_or_not\"])\n",
    "y = df[\"rain_or_not\"]\n",
    "\n",
    "X_train, X_test, y_train, y_test = train_test_split(X, y, test_size=0.3, random_state=42, stratify=y)"
   ]
  },
  {
   "cell_type": "markdown",
   "metadata": {},
   "source": [
    "### Random Forest"
   ]
  },
  {
   "cell_type": "code",
   "execution_count": 85,
   "metadata": {},
   "outputs": [
    {
     "name": "stdout",
     "output_type": "stream",
     "text": [
      "Random Forest Performance:\n",
      "               precision    recall  f1-score   support\n",
      "\n",
      "           0       0.45      0.44      0.45        34\n",
      "           1       0.69      0.70      0.69        60\n",
      "\n",
      "    accuracy                           0.61        94\n",
      "   macro avg       0.57      0.57      0.57        94\n",
      "weighted avg       0.60      0.61      0.61        94\n",
      "\n"
     ]
    }
   ],
   "source": [
    "rf_model = RandomForestClassifier(n_estimators=50, random_state=42)\n",
    "rf_model.fit(X_train, y_train)\n",
    "\n",
    "\n",
    "y_pred_rf = rf_model.predict(X_test)\n",
    "\n",
    "accuracy = accuracy_score(y_test, y_pred_rf)\n",
    "\n",
    "print(\"Random Forest Performance:\\n\", classification_report(y_test, y_pred_rf))"
   ]
  },
  {
   "cell_type": "markdown",
   "metadata": {},
   "source": [
    "### Logistic Regression"
   ]
  },
  {
   "cell_type": "code",
   "execution_count": 86,
   "metadata": {},
   "outputs": [
    {
     "name": "stdout",
     "output_type": "stream",
     "text": [
      "Logistic Regression Performance:\n",
      "               precision    recall  f1-score   support\n",
      "\n",
      "           0       0.50      0.41      0.45        34\n",
      "           1       0.70      0.77      0.73        60\n",
      "\n",
      "    accuracy                           0.64        94\n",
      "   macro avg       0.60      0.59      0.59        94\n",
      "weighted avg       0.63      0.64      0.63        94\n",
      "\n"
     ]
    }
   ],
   "source": [
    "log_model = LogisticRegression()\n",
    "log_model.fit(X_train, y_train)\n",
    "\n",
    "y_pred_log = log_model.predict(X_test)\n",
    "\n",
    "print(\"Logistic Regression Performance:\\n\", classification_report(y_test, y_pred_log))"
   ]
  },
  {
   "cell_type": "markdown",
   "metadata": {},
   "source": [
    "### Decision Trees"
   ]
  },
  {
   "cell_type": "code",
   "execution_count": 87,
   "metadata": {},
   "outputs": [
    {
     "name": "stdout",
     "output_type": "stream",
     "text": [
      "Decision Tree Performance:\n",
      "               precision    recall  f1-score   support\n",
      "\n",
      "           0       0.42      0.38      0.40        34\n",
      "           1       0.67      0.70      0.68        60\n",
      "\n",
      "    accuracy                           0.59        94\n",
      "   macro avg       0.54      0.54      0.54        94\n",
      "weighted avg       0.58      0.59      0.58        94\n",
      "\n"
     ]
    }
   ],
   "source": [
    "dt_model = DecisionTreeClassifier(random_state=42)\n",
    "dt_model.fit(X_train, y_train)\n",
    "\n",
    "y_pred_dt = dt_model.predict(X_test)\n",
    "\n",
    "print(\"Decision Tree Performance:\\n\", classification_report(y_test, y_pred_dt))"
   ]
  },
  {
   "cell_type": "markdown",
   "metadata": {},
   "source": [
    "### XGBoost"
   ]
  },
  {
   "cell_type": "code",
   "execution_count": 88,
   "metadata": {},
   "outputs": [
    {
     "name": "stdout",
     "output_type": "stream",
     "text": [
      "Gradient Boosting (XGBoost) Performance:\n",
      "               precision    recall  f1-score   support\n",
      "\n",
      "           0       0.40      0.35      0.38        34\n",
      "           1       0.66      0.70      0.68        60\n",
      "\n",
      "    accuracy                           0.57        94\n",
      "   macro avg       0.53      0.53      0.53        94\n",
      "weighted avg       0.56      0.57      0.57        94\n",
      "\n"
     ]
    }
   ],
   "source": [
    "scaler = StandardScaler()\n",
    "X_train_scaled = scaler.fit_transform(X_train)\n",
    "X_test_scaled = scaler.transform(X_test)\n",
    "\n",
    "xgb_model = XGBClassifier(n_estimators=50, random_state=42)\n",
    "xgb_model.fit(X_train_scaled, y_train)\n",
    "\n",
    "y_pred_xgb = xgb_model.predict(X_test_scaled)\n",
    "\n",
    "print(\"Gradient Boosting (XGBoost) Performance:\\n\", classification_report(y_test, y_pred_xgb))"
   ]
  },
  {
   "cell_type": "markdown",
   "metadata": {},
   "source": [
    "## Feature Importance (Using Random Forest)\n",
    "\n",
    "Check which features are most important for rain prediction"
   ]
  },
  {
   "cell_type": "code",
   "execution_count": 89,
   "metadata": {},
   "outputs": [
    {
     "data": {
      "image/png": "[encoded data removed]",
      "text/plain": [
       "<Figure size 800x500 with 1 Axes>"
      ]
     },
     "metadata": {},
     "output_type": "display_data"
    }
   ],
   "source": [
    "feature_importance = pd.Series(rf_model.feature_importances_, index=X.columns)\n",
    "feature_importance.sort_values().plot(kind=\"barh\", figsize=(8, 5), color=\"royalblue\")\n",
    "plt.xlabel(\"Importance Score\")\n",
    "plt.ylabel(\"Features\")\n",
    "plt.title(\"Feature Importance (Random Forest)\")\n",
    "plt.show()"
   ]
  },
  {
   "cell_type": "code",
   "execution_count": 90,
   "metadata": {},
   "outputs": [
    {
     "name": "stdout",
     "output_type": "stream",
     "text": [
      "Logistic Regression: 0.6383\n",
      "Decision Tree: 0.5851\n",
      "Random Forest: 0.6064\n",
      "XGBoost: 0.5745\n"
     ]
    }
   ],
   "source": [
    "from sklearn.metrics import accuracy_score\n",
    "\n",
    "# Calculate accuracy for each model\n",
    "models = {\n",
    "    \"Logistic Regression\": accuracy_score(y_test, y_pred_log),\n",
    "    \"Decision Tree\": accuracy_score(y_test, y_pred_dt),\n",
    "    \"Random Forest\": accuracy_score(y_test, y_pred_rf),\n",
    "    \"XGBoost\": accuracy_score(y_test, y_pred_xgb)\n",
    "}\n",
    "\n",
    "# Print accuracy comparison\n",
    "for model, acc in models.items():\n",
    "    print(f\"{model}: {acc:.4f}\")\n"
   ]
  }
 ],
 "metadata": {
  "kernelspec": {
   "display_name": "Python 3",
   "language": "python",
   "name": "python3"
  },
  "language_info": {
   "codemirror_mode": {
    "name": "ipython",
    "version": 3
   },
   "file_extension": ".py",
   "mimetype": "text/x-python",
   "name": "python",
   "nbconvert_exporter": "python",
   "pygments_lexer": "ipython3",
   "version": "3.12.9"
  }
 },
 "nbformat": 4,
 "nbformat_minor": 2
}
